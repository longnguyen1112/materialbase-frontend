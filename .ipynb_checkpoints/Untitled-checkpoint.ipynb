{
 "cells": [
  {
   "cell_type": "code",
   "execution_count": 1,
   "id": "01570114",
   "metadata": {},
   "outputs": [],
   "source": [
    "import csv \n",
    "import json\n"
   ]
  },
  {
   "cell_type": "code",
   "execution_count": 7,
   "id": "e96d40f1",
   "metadata": {},
   "outputs": [],
   "source": [
    "def make_json(csvPath, jsonPath):\n",
    "    data = {}\n",
    "    with open(csvPath, encoding='utf-8') as csvf:\n",
    "        csvReader = csv.DictReader(csvf)\n",
    "        key = 1\n",
    "        for row in csvReader:\n",
    "            data[key] = row\n",
    "            key += 1\n",
    "    with open(jsonPath, 'w', encoding='utf-8') as jsonf:\n",
    "        jsonf.write(json.dumps(data, indent=4))"
   ]
  },
  {
   "cell_type": "code",
   "execution_count": 8,
   "id": "4ead7d45",
   "metadata": {},
   "outputs": [],
   "source": [
    "make_json(\"18_WWAvgof2MonomersBiodegradabilityNoStarchFinal.csv\",\"example.json\")"
   ]
  },
  {
   "cell_type": "code",
   "execution_count": null,
   "id": "ad17eb37",
   "metadata": {},
   "outputs": [],
   "source": []
  }
 ],
 "metadata": {
  "kernelspec": {
   "display_name": "Python 3 (ipykernel)",
   "language": "python",
   "name": "python3"
  },
  "language_info": {
   "codemirror_mode": {
    "name": "ipython",
    "version": 3
   },
   "file_extension": ".py",
   "mimetype": "text/x-python",
   "name": "python",
   "nbconvert_exporter": "python",
   "pygments_lexer": "ipython3",
   "version": "3.9.10"
  }
 },
 "nbformat": 4,
 "nbformat_minor": 5
}
